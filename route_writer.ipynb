{
 "cells": [
  {
   "cell_type": "code",
   "execution_count": 13,
   "metadata": {},
   "outputs": [
    {
     "name": "stdout",
     "output_type": "stream",
     "text": [
      "Overwriting route.py\n"
     ]
    }
   ],
   "source": [
    "%%writefile route.py\n",
    "\n",
    "from flask import Flask, request, render_template, redirect, session\n",
    "import cv2\n",
    "import numpy as np\n",
    "import datetime\n",
    "\n",
    "image = None\n",
    "\n",
    "app = Flask(__name__)\n",
    "\n",
    "###################################################modules\n",
    "\n",
    "def red_detector(image):\n",
    "    gray = cv2.cvtColor(image, cv2.COLOR_BGR2GRAY)\n",
    "    gray = cv2.cvtColor(gray, cv2.COLOR_GRAY2BGR)\n",
    "    hsv = cv2.cvtColor(image, cv2.COLOR_BGR2HSV)\n",
    "    lower_red = (-10,100, 100)\n",
    "    upper_red = (10, 255, 255)\n",
    "    mask = cv2.inRange(hsv, lower_red, upper_red)\n",
    "    mask = cv2.GaussianBlur(mask, (9, 9), 9)\n",
    "    kernel = cv2.getStructuringElement(cv2.MORPH_ELLIPSE, (3,3))\n",
    "    mask = cv2.dilate(mask, kernel, iterations=1)\n",
    "    red_object = cv2.bitwise_and(image, image, mask=mask)\n",
    "    dst = cv2.addWeighted(gray, 0.5, red_object, 1.0, 0.0)\n",
    "    \n",
    "    return dst\n",
    "\n",
    "\n",
    "\n",
    "\n",
    "###########################################################apps\n",
    "\n",
    "@app.route('/')\n",
    "def index():\n",
    "    return render_template(\"imageprocessing.html\", ctx={\"title\":\"Over the Rainbow\"})\n",
    "\n",
    "\n",
    "@app.route('/upload', methods=[\"POST\"]) # post방식이 올때 업로드하려면\n",
    "def upload():\n",
    "    global image # 글로벌 변수 선언 이 함수 밖에서도 사용 가능 글로벌 함수는 많이 사용 안하는게 좋다. 남발하면 추적하기 힘듬\n",
    "    f = request.files['file1']\n",
    "    filename = \"./static/img/\" + f.filename\n",
    "    f.save(filename)\n",
    "    image = cv2.imread(filename) # 이미지 로딩\n",
    "    cv2.imwrite(\"./static/img/result.jpg\", image)\n",
    "    print(image.shape)\n",
    "#     session[\"image\"] = image\n",
    "\n",
    "    return redirect(\"/\")\n",
    "\n",
    "\n",
    "@app.route('/imageprocess')\n",
    "def imageprocss():\n",
    "    global image\n",
    "    method = request.args.get(\"method\")\n",
    "\n",
    "    \n",
    "    if method == \"red\":\n",
    "        dst = red_detector(image)\n",
    "        cv2.imwrite('./static/img/result.jpg', dst)\n",
    "    \n",
    "        \n",
    "        \n",
    "    return \"hello~~\"\n",
    "\n",
    "\n",
    "if __name__ == '__main__':\n",
    "    app.run(host='0.0.0.0', debug=True, port=8000)"
   ]
  }
 ],
 "metadata": {
  "kernelspec": {
   "display_name": "Python 3",
   "language": "python",
   "name": "python3"
  },
  "language_info": {
   "codemirror_mode": {
    "name": "ipython",
    "version": 3
   },
   "file_extension": ".py",
   "mimetype": "text/x-python",
   "name": "python",
   "nbconvert_exporter": "python",
   "pygments_lexer": "ipython3",
   "version": "3.7.6"
  },
  "toc": {
   "base_numbering": 1,
   "nav_menu": {},
   "number_sections": false,
   "sideBar": true,
   "skip_h1_title": false,
   "title_cell": "Table of Contents",
   "title_sidebar": "Contents",
   "toc_cell": false,
   "toc_position": {},
   "toc_section_display": true,
   "toc_window_display": false
  }
 },
 "nbformat": 4,
 "nbformat_minor": 4
}
